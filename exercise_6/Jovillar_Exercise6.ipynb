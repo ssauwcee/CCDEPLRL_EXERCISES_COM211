{
  "nbformat": 4,
  "nbformat_minor": 0,
  "metadata": {
    "colab": {
      "provenance": [],
      "gpuType": "T4"
    },
    "kernelspec": {
      "name": "python3",
      "display_name": "Python 3"
    },
    "language_info": {
      "name": "python"
    },
    "accelerator": "GPU"
  },
  "cells": [
    {
      "cell_type": "code",
      "execution_count": 1,
      "metadata": {
        "id": "IkJEMe6wriqa"
      },
      "outputs": [],
      "source": [
        "from transformers import pipeline"
      ]
    },
    {
      "cell_type": "code",
      "source": [
        "oracle = pipeline(model=\"deepset/roberta-base-squad2\")\n",
        "oracle(question=\"Who put humpty dumpty together again?\",\n",
        "context=\"Humpty dumpty sat on the wall and he had a great fall, then all the king's men put humpty dumpty together again\")"
      ],
      "metadata": {
        "colab": {
          "base_uri": "https://localhost:8080/"
        },
        "id": "K7MBygZhwQn7",
        "outputId": "725a401e-c9f3-4952-9f2e-c666e838f386"
      },
      "execution_count": 12,
      "outputs": [
        {
          "output_type": "execute_result",
          "data": {
            "text/plain": [
              "{'score': 0.6541036367416382,\n",
              " 'start': 60,\n",
              " 'end': 78,\n",
              " 'answer': \"all the king's men\"}"
            ]
          },
          "metadata": {},
          "execution_count": 12
        }
      ]
    }
  ]
}