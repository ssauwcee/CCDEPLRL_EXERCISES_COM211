{
  "nbformat": 4,
  "nbformat_minor": 0,
  "metadata": {
    "colab": {
      "provenance": [],
      "include_colab_link": true
    },
    "kernelspec": {
      "name": "python3",
      "display_name": "Python 3"
    },
    "language_info": {
      "name": "python"
    }
  },
  "cells": [
    {
      "cell_type": "markdown",
      "metadata": {
        "id": "view-in-github",
        "colab_type": "text"
      },
      "source": [
        "<a href=\"https://colab.research.google.com/github/ssauwcee/CCDEPLRL_EXERCISES_COM211/blob/main/exercise2(jovillar).ipynb\" target=\"_parent\"><img src=\"https://colab.research.google.com/assets/colab-badge.svg\" alt=\"Open In Colab\"/></a>"
      ]
    },
    {
      "cell_type": "markdown",
      "source": [
        "# Exercise 2"
      ],
      "metadata": {
        "id": "tqFPmGbJ7Oah"
      }
    },
    {
      "cell_type": "markdown",
      "source": [
        "\n",
        "## Forward Pass and Backward Pass"
      ],
      "metadata": {
        "id": "cUkdx6a498S8"
      }
    },
    {
      "cell_type": "markdown",
      "source": [
        "<img src=\"https://github.com/robitussin/CCDEPLRL_EXERCISES/blob/main/images/exercise2.png?raw=true\"/>"
      ],
      "metadata": {
        "id": "0Q5Io34f-x38"
      }
    },
    {
      "cell_type": "markdown",
      "source": [
        "<img src=\"\"/>"
      ],
      "metadata": {
        "id": "-ZTBRmkM7JMR"
      }
    },
    {
      "cell_type": "markdown",
      "source": [
        "1. What is the predicted output? (`20 points`)"
      ],
      "metadata": {
        "id": "7HD5MNgg7hIu"
      }
    },
    {
      "cell_type": "code",
      "execution_count": 11,
      "metadata": {
        "id": "2cbutiml5cm_",
        "colab": {
          "base_uri": "https://localhost:8080/"
        },
        "outputId": "178dc0e0-979a-4f88-d4c6-253f4ac8f9a6"
      },
      "outputs": [
        {
          "output_type": "stream",
          "name": "stdout",
          "text": [
            "4.0\n"
          ]
        }
      ],
      "source": [
        "w1 = 2.0\n",
        "z1= 2.0\n",
        "z2 = w1*z1\n",
        "print(z2)"
      ]
    },
    {
      "cell_type": "markdown",
      "source": [
        "2. Find the loss using the Mean Squared Error (MSE) function (`20 points`)"
      ],
      "metadata": {
        "id": "JTh2z2v97k0J"
      }
    },
    {
      "cell_type": "code",
      "source": [
        "y = 1.0\n",
        "c = z2 - y\n",
        "c1 = c * c\n",
        "print('(z2-y)^2')\n",
        "print(c1)"
      ],
      "metadata": {
        "id": "F2D7opAr7t3U",
        "colab": {
          "base_uri": "https://localhost:8080/"
        },
        "outputId": "6f2440f5-6574-446c-9568-eac5f3c26388"
      },
      "execution_count": 26,
      "outputs": [
        {
          "output_type": "stream",
          "name": "stdout",
          "text": [
            "(z2-y)^2\n",
            "9.0\n"
          ]
        }
      ]
    },
    {
      "cell_type": "markdown",
      "source": [
        "3. What is the derivative of $z_{2}$ with respect to $w_{1}$? (`20 points`)"
      ],
      "metadata": {
        "id": "wz5D8wEl7wtT"
      }
    },
    {
      "cell_type": "code",
      "source": [
        "print('z1')\n",
        "print('2.0')"
      ],
      "metadata": {
        "id": "n8Q_9JJ57xFL",
        "colab": {
          "base_uri": "https://localhost:8080/"
        },
        "outputId": "e7724036-d8b9-49b8-d9f7-dfc70e6633e1"
      },
      "execution_count": 23,
      "outputs": [
        {
          "output_type": "stream",
          "name": "stdout",
          "text": [
            "z1\n",
            "2.0\n"
          ]
        }
      ]
    },
    {
      "cell_type": "markdown",
      "source": [
        "4. What is the derivative of the loss with respect to $z_{2}$? (`20 points`)"
      ],
      "metadata": {
        "id": "HVpt0n-E9TIx"
      }
    },
    {
      "cell_type": "code",
      "source": [
        "dc = 2*c\n",
        "print('2(z2-y)')\n",
        "print(dc)"
      ],
      "metadata": {
        "id": "KM4fEL059grQ",
        "colab": {
          "base_uri": "https://localhost:8080/"
        },
        "outputId": "9d0c724b-3c20-40dc-8868-6fabdb59a11b"
      },
      "execution_count": 27,
      "outputs": [
        {
          "output_type": "stream",
          "name": "stdout",
          "text": [
            "2(z2-y)\n",
            "6.0\n"
          ]
        }
      ]
    },
    {
      "cell_type": "markdown",
      "source": [
        "5. What is the derivative of the loss with respect to $w_{1}$? (`20 points`)"
      ],
      "metadata": {
        "id": "hlO5xdMx9hhl"
      }
    },
    {
      "cell_type": "code",
      "source": [
        "print('8.0*w1-2.0')"
      ],
      "metadata": {
        "id": "-xP2grHW9hxK",
        "colab": {
          "base_uri": "https://localhost:8080/"
        },
        "outputId": "761a808b-b0b8-43a3-ea57-2f8381463e65"
      },
      "execution_count": 25,
      "outputs": [
        {
          "output_type": "stream",
          "name": "stdout",
          "text": [
            "8.0*w1-2.0\n"
          ]
        }
      ]
    }
  ]
}